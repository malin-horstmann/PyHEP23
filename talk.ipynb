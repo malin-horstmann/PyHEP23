{
 "cells": [
  {
   "cell_type": "code",
   "execution_count": null,
   "metadata": {},
   "outputs": [],
   "source": [
    "import numpy as np\n",
    "import json\n",
    "import matplotlib.pyplot as plt\n",
    "\n",
    "# Frequentist\n",
    "import pyhf\n",
    "pyhf.set_backend('jax')\n",
    "\n",
    "# Bayesian\n",
    "import pymc\n",
    "import arviz\n",
    "import corner\n",
    "\n",
    "%load_ext autoreload\n",
    "%autoreload "
   ]
  },
  {
   "cell_type": "code",
   "execution_count": null,
   "metadata": {},
   "outputs": [],
   "source": [
    "from Bayesian_pyhf import infer\n",
    "from Bayesian_pyhf import plotting"
   ]
  },
  {
   "cell_type": "code",
   "execution_count": null,
   "metadata": {},
   "outputs": [],
   "source": [
    "# import sys\n",
    "# sys.path.append('....../src')\n",
    "\n",
    "# from Bayesian_pyhf import infer"
   ]
  },
  {
   "cell_type": "markdown",
   "metadata": {},
   "source": [
    "# Example 1: Adapted Public Likelihood\n",
    "- Search for displaced leptons in $\\sqrt s$ = 13 TeV $pp$ collisions with the ATLAS detector\n",
    "- https://www.hepdata.net/record/resource/1981552?landing_page=true"
   ]
  },
  {
   "cell_type": "markdown",
   "metadata": {},
   "source": [
    "### Bayesian evaluation:\n",
    "\n",
    "  $ p(\\theta \\vert x) \\approx p(x \\vert \\theta)  p(\\theta)$"
   ]
  },
  {
   "cell_type": "code",
   "execution_count": null,
   "metadata": {},
   "outputs": [],
   "source": [
    "# Fix prior for unconstrained parameters\n"
   ]
  },
  {
   "cell_type": "code",
   "execution_count": null,
   "metadata": {},
   "outputs": [],
   "source": [
    "# Sample posterior distributions\n"
   ]
  },
  {
   "cell_type": "code",
   "execution_count": null,
   "metadata": {},
   "outputs": [],
   "source": [
    "# Sample posterior predictives\n"
   ]
  },
  {
   "cell_type": "code",
   "execution_count": null,
   "metadata": {},
   "outputs": [],
   "source": [
    "# Sample prior predictives\n"
   ]
  },
  {
   "cell_type": "code",
   "execution_count": null,
   "metadata": {},
   "outputs": [],
   "source": [
    "b = corner.corner(post_data.posterior, var_names=['lumi', 'SigXSec', 'mu_Sig'], quantiles=[0.5], color = 'royalblue');\n",
    "corner.corner(prior_pred.prior, var_names=['lumi', 'SigXSec', 'mu_Sig'], quantiles=[0.5], color = 'coral', fig = b);\n",
    "\n",
    "import matplotlib.lines as mlines\n",
    "plt.legend(handles=[\n",
    "            (mlines.Line2D([], [], color='royalblue', label='Posterior')),\n",
    "            (mlines.Line2D([], [], color='coral', label='Prior'))\n",
    "        ], loc=\"upper right\", fontsize=14)\n"
   ]
  },
  {
   "cell_type": "code",
   "execution_count": null,
   "metadata": {},
   "outputs": [],
   "source": []
  },
  {
   "cell_type": "markdown",
   "metadata": {},
   "source": [
    "# Example 2: Toy $\\gamma \\gamma$ to Higgs"
   ]
  },
  {
   "cell_type": "code",
   "execution_count": null,
   "metadata": {},
   "outputs": [],
   "source": []
  },
  {
   "cell_type": "markdown",
   "metadata": {},
   "source": [
    "Frequentist evaluation:"
   ]
  },
  {
   "cell_type": "code",
   "execution_count": null,
   "metadata": {},
   "outputs": [],
   "source": []
  },
  {
   "cell_type": "markdown",
   "metadata": {},
   "source": [
    "Bayesian evaluation:"
   ]
  },
  {
   "cell_type": "code",
   "execution_count": null,
   "metadata": {},
   "outputs": [],
   "source": [
    "# Fix prior for unconstrained parameters\n"
   ]
  },
  {
   "cell_type": "code",
   "execution_count": null,
   "metadata": {},
   "outputs": [],
   "source": [
    "# Sample posterior, and prior and posterior predictive\n"
   ]
  },
  {
   "cell_type": "code",
   "execution_count": null,
   "metadata": {},
   "outputs": [],
   "source": []
  },
  {
   "cell_type": "code",
   "execution_count": null,
   "metadata": {},
   "outputs": [],
   "source": []
  },
  {
   "cell_type": "code",
   "execution_count": null,
   "metadata": {},
   "outputs": [],
   "source": [
    "a = corner.corner(post_data.posterior, var_names=model.config.par_names, quantiles=[0.5], color = 'royalblue');\n",
    "corner.corner(prior_pred.prior, var_names=model.config.par_names, quantiles=[0.5], color = 'coral', fig = a);\n",
    "\n",
    "import matplotlib.lines as mlines\n",
    "plt.legend(handles=[\n",
    "            (mlines.Line2D([], [], color='royalblue', label='Posterior')),\n",
    "            (mlines.Line2D([], [], color='coral', label='Prior'))\n",
    "        ], loc=\"upper right\", fontsize=14)"
   ]
  },
  {
   "cell_type": "code",
   "execution_count": null,
   "metadata": {},
   "outputs": [],
   "source": [
    "print(f'Posterior mean for mu: {np.array(post_data.posterior.mu[0]).mean()}')"
   ]
  },
  {
   "cell_type": "code",
   "execution_count": null,
   "metadata": {},
   "outputs": [],
   "source": []
  }
 ],
 "metadata": {
  "kernelspec": {
   "display_name": "PyHEP23",
   "language": "python",
   "name": "python3"
  },
  "language_info": {
   "codemirror_mode": {
    "name": "ipython",
    "version": 3
   },
   "file_extension": ".py",
   "mimetype": "text/x-python",
   "name": "python",
   "nbconvert_exporter": "python",
   "pygments_lexer": "ipython3",
   "version": "3.9.6"
  },
  "orig_nbformat": 4
 },
 "nbformat": 4,
 "nbformat_minor": 2
}
